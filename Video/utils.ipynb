{
 "cells": [
  {
   "cell_type": "code",
   "execution_count": 13,
   "id": "19e2a231",
   "metadata": {},
   "outputs": [],
   "source": [
    "import nbimporter\n",
    "import torch\n",
    "import torchvision\n",
    "import glob\n",
    "import numpy as np\n",
    "import re\n",
    "import os.path\n",
    "from dataset import KITTIDataset\n",
    "import random\n",
    "from torch.utils.data import DataLoader"
   ]
  },
  {
   "cell_type": "code",
   "execution_count": 14,
   "id": "0d6a519e",
   "metadata": {},
   "outputs": [],
   "source": [
    "def save_checkpoint(state, filename=\"my_checkpoint.pth.tar\"):\n",
    "    print(\"=> Saving checkpoint\")\n",
    "    torch.save(state, filename)\n",
    "\n",
    "def load_checkpoint(checkpoint, model):\n",
    "    print(\"=> Loading checkpoint\")\n",
    "    model.load_state_dict(checkpoint[\"state_dict\"])"
   ]
  },
  {
   "cell_type": "code",
   "execution_count": 15,
   "id": "a66246cb",
   "metadata": {},
   "outputs": [],
   "source": [
    "def check_accuracy(loader, model, device=\"mps\"):\n",
    "    correct = 0\n",
    "    pixels = 0\n",
    "    dice_score = 0\n",
    "    \n",
    "    model.eval()\n",
    "    \n",
    "    with torch.no_grad():\n",
    "        for x, y in loader:\n",
    "            x = x.to(device)\n",
    "            y = y.to(device).unsqueeze(1)\n",
    "\n",
    "            predictions = torch.sigmoid(model(x))\n",
    "            predictions = (predictions > 0.5).float()\n",
    "\n",
    "            if predictions.shape != y.shape:\n",
    "                y = y.view_as(predictions)\n",
    "\n",
    "            correct += (predictions == y).sum().item()\n",
    "            pixels += y.numel()\n",
    "            dice_score += (2 * (predictions*y).sum()) / ((predictions + y).sum() + 1e-8)\n",
    "\n",
    "        accuracy = correct/pixels\n",
    "        avg_dice_score = dice_score/len(loader)\n",
    "\n",
    "        print(f\"got {correct}/{pixels} with accuracy {accuracy*100:.3f}\")\n",
    "        print(f\"Dice score: {avg_dice_score}\")\n",
    "\n",
    "        model.train()\n",
    "        return accuracy"
   ]
  },
  {
   "cell_type": "code",
   "execution_count": 16,
   "id": "b95ec062",
   "metadata": {},
   "outputs": [],
   "source": [
    "def save_predictions(loader, model, folder=\"saved_results\", device=\"mps\"):\n",
    "    model.eval()\n",
    "    for idx, (x,y) in enumerate(loader):\n",
    "        x = x.to(device=device)\n",
    "        with torch.no_grad():\n",
    "            predictions = torch.sigmoid(model(x))\n",
    "            predictions = (predictions > 0.5).float()\n",
    "\n",
    "        for i in range(predictions.shape[0]):\n",
    "            torchvision.utils.save_image(predictions[i], f\"{folder}/pred_{idx}_{i}.png\")\n",
    "            torchvision.utils.save_image(y[i], f\"{folder}/gt_{idx}_{i}.png\")\n",
    "\n",
    "    model.train()\n"
   ]
  },
  {
   "cell_type": "markdown",
   "id": "384e20a5",
   "metadata": {},
   "source": [
    "work for kitti:"
   ]
  },
  {
   "cell_type": "code",
   "execution_count": 17,
   "id": "90817b86",
   "metadata": {},
   "outputs": [],
   "source": [
    "def get_batches(data_folder, image_shape, batch_size):\n",
    "        \"\"\"\n",
    "        Create batches of training data\n",
    "        :param batch_size: Batch Size\n",
    "        :return: Batches of training data\n",
    "        \"\"\"\n",
    "        image_paths = glob(os.path.join(data_folder, 'image_2', '*.png'))\n",
    "        label_paths = {\n",
    "            re.sub(r'_(lane|road)_', '_', os.path.basename(path)): path\n",
    "            for path in glob(os.path.join(data_folder, 'gt_image_2', '*_road_*.png'))}\n",
    "        background_color = np.array([255, 0, 0])\n",
    "\n",
    "        random.shuffle(image_paths)\n",
    "        for batch_i in range(0, len(image_paths), batch_size):\n",
    "            images = []\n",
    "            gt_images = []\n",
    "            for image_file in image_paths[batch_i:batch_i+batch_size]:\n",
    "                gt_image_file = label_paths[os.path.basename(image_file)]\n",
    "\n",
    "                image = scipy.misc.imresize(scipy.misc.imread(image_file), image_shape)\n",
    "                gt_image = scipy.misc.imresize(scipy.misc.imread(gt_image_file), image_shape)\n",
    "\n",
    "                gt_bg = np.all(gt_image == background_color, axis=2)\n",
    "                gt_bg = gt_bg.reshape(*gt_bg.shape, 1)\n",
    "                gt_image = np.concatenate((gt_bg, np.invert(gt_bg)), axis=2)\n",
    "\n",
    "                images.append(image)\n",
    "                gt_images.append(gt_image)\n",
    "\n",
    "            yield np.array(images), np.array(gt_images)\n"
   ]
  },
  {
   "cell_type": "code",
   "execution_count": 18,
   "id": "2f7be0b6",
   "metadata": {},
   "outputs": [],
   "source": [
    "def get_loaders(image_dir, mask_dir, batch, train_transform, val_transform, val_split=0.2, num_workers=0, pin_memory=True):\n",
    "    all_images = [img for img in os.listdir(image_dir) if img.endswith(\".png\")]\n",
    "    \n",
    "    train_images, val_images = all_images, all_images\n",
    "\n",
    "    train_dataset = KITTIDataset(image_dir=image_dir, mask_dir=mask_dir, image_files=train_images, transform=train_transform)\n",
    "    train_loader = DataLoader(train_dataset, batch_size=batch, num_workers=num_workers, pin_memory=pin_memory, shuffle=True)\n",
    "\n",
    "    val_dataset = KITTIDataset(image_dir=image_dir, mask_dir=mask_dir, image_files=val_images, transform=val_transform)\n",
    "    val_loader = DataLoader(val_dataset, batch_size=batch, num_workers=num_workers, pin_memory=pin_memory, shuffle=False)\n",
    "\n",
    "    return train_loader, val_loader"
   ]
  }
 ],
 "metadata": {
  "kernelspec": {
   "display_name": "Python 3 (ipykernel)",
   "language": "python",
   "name": "python3"
  },
  "language_info": {
   "codemirror_mode": {
    "name": "ipython",
    "version": 3
   },
   "file_extension": ".py",
   "mimetype": "text/x-python",
   "name": "python",
   "nbconvert_exporter": "python",
   "pygments_lexer": "ipython3",
   "version": "3.11.7"
  }
 },
 "nbformat": 4,
 "nbformat_minor": 5
}
