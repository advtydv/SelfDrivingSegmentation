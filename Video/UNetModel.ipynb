{
 "cells": [
  {
   "cell_type": "code",
   "execution_count": 5,
   "id": "2f37429f",
   "metadata": {},
   "outputs": [],
   "source": [
    "import numpy as np\n",
    "import torch\n",
    "import torch.nn as nn\n",
    "import torchvision.transforms.functional as TF\n",
    "from tqdm import tqdm\n",
    "import torch.nn.functional as F\n",
    "from torchvision.transforms.functional import InterpolationMode\n",
    "\n",
    "if torch.backends.mps.is_available():\n",
    "    device = torch.device(\"mps\")\n",
    "else:\n",
    "    device = torch.device(\"cpu\")"
   ]
  },
  {
   "cell_type": "code",
   "execution_count": 6,
   "id": "a7fda116",
   "metadata": {},
   "outputs": [
    {
     "data": {
      "text/plain": [
       "\"\\nclass Down(nn.Module):\\n    def __init__(self, in_channels, out_channels):\\n        super(Down, self).__init__()\\n            \\n        self.conv = DoubleConv(in_channels, out_channels)\\n        self.pool = nn.MaxPool2d(kernel_size=2, stride=2)\\n        \\n    def forward(self, x):\\n        x = self.conv(x)\\n        return self.pool(x)\\n    \\nclass Up(nn.Module):\\n    def __init__(self, in_channels, out_channels):\\n        super(Up, self).__init__()\\n        \\n        self.upscale = nn.Upsample(scale_factor=2, mode='bilinear', align_corners=True)\\n        self.conv = DoubleConv(in_channels, out_channels)\\n        \\n    def forward(self, x1, x2):\\n        x1 = self.upscale(x1)\\n        #CHW\\n        diffY = x2.size()[2] - x1.size()[2]\\n        diffX = x2.size()[3] - x1.size()[3]\\n\\n        x1 = F.pad(x1, [diffX // 2, diffX - diffX // 2,\\n                        diffY // 2, diffY - diffY // 2])\\n        x = torch.cat([x2, x1], dim=1)\\n        \\n        return self.conv(x)\\n        \\nclass OutConv(nn.Module):\\n    def __init__(self, in_channels, out_channels):\\n        super(OutConv, self).__init__()\\n        \\n        self.conv = nn.Conv2d(in_channels, out_channels, kernel_size=1)\\n        \\n    def forward(self, x):\\n        return self.conv(x)\\n\""
      ]
     },
     "execution_count": 6,
     "metadata": {},
     "output_type": "execute_result"
    }
   ],
   "source": [
    "#same implementation, more complicated\n",
    "\"\"\"\n",
    "class Down(nn.Module):\n",
    "    def __init__(self, in_channels, out_channels):\n",
    "        super(Down, self).__init__()\n",
    "            \n",
    "        self.conv = DoubleConv(in_channels, out_channels)\n",
    "        self.pool = nn.MaxPool2d(kernel_size=2, stride=2)\n",
    "        \n",
    "    def forward(self, x):\n",
    "        x = self.conv(x)\n",
    "        return self.pool(x)\n",
    "    \n",
    "class Up(nn.Module):\n",
    "    def __init__(self, in_channels, out_channels):\n",
    "        super(Up, self).__init__()\n",
    "        \n",
    "        self.upscale = nn.Upsample(scale_factor=2, mode='bilinear', align_corners=True)\n",
    "        self.conv = DoubleConv(in_channels, out_channels)\n",
    "        \n",
    "    def forward(self, x1, x2):\n",
    "        x1 = self.upscale(x1)\n",
    "        #CHW\n",
    "        diffY = x2.size()[2] - x1.size()[2]\n",
    "        diffX = x2.size()[3] - x1.size()[3]\n",
    "\n",
    "        x1 = F.pad(x1, [diffX // 2, diffX - diffX // 2,\n",
    "                        diffY // 2, diffY - diffY // 2])\n",
    "        x = torch.cat([x2, x1], dim=1)\n",
    "        \n",
    "        return self.conv(x)\n",
    "        \n",
    "class OutConv(nn.Module):\n",
    "    def __init__(self, in_channels, out_channels):\n",
    "        super(OutConv, self).__init__()\n",
    "        \n",
    "        self.conv = nn.Conv2d(in_channels, out_channels, kernel_size=1)\n",
    "        \n",
    "    def forward(self, x):\n",
    "        return self.conv(x)\n",
    "\"\"\""
   ]
  },
  {
   "cell_type": "code",
   "execution_count": 7,
   "id": "aecad735",
   "metadata": {},
   "outputs": [],
   "source": [
    "class UNet(nn.Module):\n",
    "    def __init__(self, in_channels, out_channels, features=[64,128,256,512]):\n",
    "        super(UNet, self).__init__()\n",
    "        \n",
    "        self.downs = nn.ModuleList()\n",
    "        self.ups = nn.ModuleList()\n",
    "        self.pool = nn.MaxPool2d(kernel_size=2, stride=2)\n",
    "        \n",
    "        for feature in features:\n",
    "            self.downs.append(DoubleConv(in_channels, feature))\n",
    "            in_channels = feature\n",
    "            \n",
    "        for feature in reversed(features):\n",
    "            self.ups.append(nn.ConvTranspose2d(feature*2, feature, kernel_size=2, stride=2))\n",
    "            self.ups.append(DoubleConv(feature*2, feature))\n",
    "            \n",
    "        self.bottle = DoubleConv(features[-1], features[-1]*2)\n",
    "        self.final = nn.Conv2d(features[0], out_channels, kernel_size=1)\n",
    "        \n",
    "    def forward(self, x):\n",
    "        skips = []\n",
    "        for down in self.downs:\n",
    "            x = down(x)\n",
    "            skips.append(x)\n",
    "            x = self.pool(x)\n",
    "            \n",
    "        x = self.bottle(x)\n",
    "        skips = skips[::-1]\n",
    "        \n",
    "        for i in range(0,len(self.ups), 2):\n",
    "            x = self.ups[i](x)\n",
    "            skip_connection = skips[i//2]\n",
    "            \n",
    "            if(skip_connection.shape != x.shape):\n",
    "                x = TF.resize(x, skip_connection.shape[2:], interpolation=InterpolationMode.NEAREST)\n",
    "            \n",
    "            x = torch.cat((x, skip_connection), dim=1)\n",
    "            x = self.ups[i+1](x)\n",
    "            \n",
    "        return self.final(x)\n",
    "        \n",
    "class DoubleConv(nn.Module):\n",
    "    def __init__(self, in_channels, out_channels):\n",
    "        super(DoubleConv, self).__init__()\n",
    "        self.convs = nn.Sequential(\n",
    "            nn.Conv2d(in_channels, out_channels, kernel_size=3, stride=1, padding=1),\n",
    "            nn.BatchNorm2d(out_channels),\n",
    "            nn.ReLU(inplace=True),\n",
    "            nn.Conv2d(out_channels, out_channels, kernel_size=3, stride=1, padding=1),\n",
    "            nn.BatchNorm2d(out_channels),\n",
    "            nn.ReLU(inplace=True)\n",
    "        )\n",
    "        \n",
    "    def forward(self, x):\n",
    "        return self.convs(x)"
   ]
  },
  {
   "cell_type": "code",
   "execution_count": 8,
   "id": "99501ab7",
   "metadata": {},
   "outputs": [
    {
     "name": "stdout",
     "output_type": "stream",
     "text": [
      "shape of input is torch.Size([3, 1, 160, 160])\n",
      "shape of preds is torch.Size([3, 1, 160, 160])\n"
     ]
    }
   ],
   "source": [
    "def test():\n",
    "    x = torch.randn((3, 1, 160, 160))\n",
    "    model = UNet(in_channels=1, out_channels=1)\n",
    "    preds = model(x)\n",
    "    print(f\"shape of input is {x.shape}\")\n",
    "    print(f\"shape of preds is {preds.shape}\")\n",
    "    \n",
    "    assert preds.shape == x.shape\n",
    "\n",
    "if __name__ == \"__main__\":\n",
    "    test()"
   ]
  },
  {
   "cell_type": "code",
   "execution_count": null,
   "id": "9edc784c",
   "metadata": {},
   "outputs": [],
   "source": []
  }
 ],
 "metadata": {
  "kernelspec": {
   "display_name": "Python 3 (ipykernel)",
   "language": "python",
   "name": "python3"
  },
  "language_info": {
   "codemirror_mode": {
    "name": "ipython",
    "version": 3
   },
   "file_extension": ".py",
   "mimetype": "text/x-python",
   "name": "python",
   "nbconvert_exporter": "python",
   "pygments_lexer": "ipython3",
   "version": "3.11.7"
  }
 },
 "nbformat": 4,
 "nbformat_minor": 5
}
